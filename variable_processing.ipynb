{
 "metadata": {
  "language_info": {
   "codemirror_mode": {
    "name": "ipython",
    "version": 3
   },
   "file_extension": ".py",
   "mimetype": "text/x-python",
   "name": "python",
   "nbconvert_exporter": "python",
   "pygments_lexer": "ipython3",
   "version": "3.9.5"
  },
  "orig_nbformat": 2,
  "kernelspec": {
   "name": "python395jvsc74a57bd0f4fde45515710cbe4f4cf44a8ddef1b298277709bd6c5462499553af68a98f2e",
   "display_name": "Python 3.9.5 64-bit"
  },
  "metadata": {
   "interpreter": {
    "hash": "f4fde45515710cbe4f4cf44a8ddef1b298277709bd6c5462499553af68a98f2e"
   }
  }
 },
 "nbformat": 4,
 "nbformat_minor": 2,
 "cells": [
  {
   "cell_type": "code",
   "execution_count": 1,
   "metadata": {},
   "outputs": [
    {
     "output_type": "stream",
     "name": "stdout",
     "text": [
      "Academic license - for non-commercial use only - expires 2021-08-02\n",
      "Using license file D:\\Users\\gabri\\gurobi.lic\n",
      "Read MIP start from file out.mst\n",
      "Gurobi Optimizer version 9.1.1 build v9.1.1rc0 (win64)\n",
      "Thread count: 6 physical cores, 6 logical processors, using up to 6 threads\n",
      "Optimize a model with 8705 rows, 6100 columns and 43100 nonzeros\n",
      "Model fingerprint: 0x9afb8399\n",
      "Variable types: 500 continuous, 5600 integer (2800 binary)\n",
      "Coefficient statistics:\n",
      "  Matrix range     [1e+00, 1e+12]\n",
      "  Objective range  [1e+00, 1e+00]\n",
      "  Bounds range     [1e+00, 1e+00]\n",
      "  RHS range        [1e+00, 1e+12]\n",
      "Warning: Model contains large matrix coefficients\n",
      "Warning: Model contains large rhs\n",
      "         Consider reformulating model or setting NumericFocus parameter\n",
      "         to avoid numerical issues.\n",
      "\n",
      "User MIP start produced solution with objective 239989 (0.03s)\n",
      "Loaded user MIP start with objective 239989\n",
      "\n",
      "Presolve removed 5633 rows and 2419 columns\n",
      "Presolve time: 0.07s\n",
      "Presolved: 3072 rows, 3681 columns, 16272 nonzeros\n",
      "Variable types: 485 continuous, 3196 integer (2796 binary)\n",
      "\n",
      "Root relaxation: objective 2.400000e+05, 4786 iterations, 0.19 seconds\n",
      "\n",
      "    Nodes    |    Current Node    |     Objective Bounds      |     Work\n",
      " Expl Unexpl |  Obj  Depth IntInf | Incumbent    BestBd   Gap | It/Node Time\n",
      "\n",
      "     0     0 240000.000    0    4 239989.000 240000.000  0.00%     -    0s\n",
      "\n",
      "Explored 0 nodes (7145 simplex iterations) in 0.41 seconds\n",
      "Thread count was 6 (of 6 available processors)\n",
      "\n",
      "Solution count 1: 239989 \n",
      "\n",
      "Optimal solution found (tolerance 1.00e-04)\n",
      "Best objective 2.399890000000e+05, best bound 2.400000000000e+05, gap 0.0046%\n"
     ]
    }
   ],
   "source": [
    "from vacunacion_regional.entrypoints import api\n",
    "from vacunacion_regional.data_management.postprocessing import process_model_variables, get_mapped_variables\n",
    "import pandas as pd\n",
    "\n",
    "params, mappings = api.get_from_data_parameters('./data/vaccines.json')\n",
    "model = api.obtain_model(params)\n",
    "model.read(\"out.mps\")\n",
    "model.optimize()\n",
    "mapped_variables = get_mapped_variables(model)\n",
    "variables = process_model_variables(mapped_variables)"
   ]
  },
  {
   "cell_type": "code",
   "execution_count": 2,
   "metadata": {},
   "outputs": [],
   "source": [
    "from vacunacion_regional.data_management.postprocessing import generate_tables\n",
    "\n",
    "tables = generate_tables(model, mappings=mappings, save=True)\n",
    "\n",
    "\n"
   ]
  },
  {
   "cell_type": "code",
   "execution_count": 3,
   "metadata": {},
   "outputs": [
    {
     "output_type": "execute_result",
     "data": {
      "text/plain": [
       "dict_keys(['camion_n_en_comuna_c_dia_d', 'vacunas_camion_dia', 'personas_vacunadas_comuna_dia', 'porcentajes_comuna_dia', 'promedio_vacunacion_dia', 'comuna_critica'])"
      ]
     },
     "metadata": {},
     "execution_count": 3
    }
   ],
   "source": [
    "tables.keys()"
   ]
  },
  {
   "cell_type": "code",
   "execution_count": 4,
   "metadata": {},
   "outputs": [
    {
     "output_type": "execute_result",
     "data": {
      "text/plain": [
       "               value\n",
       "                 sum\n",
       "comuna              \n",
       "Arica          586.0\n",
       "Camarones        3.0\n",
       "General Lagos    3.0\n",
       "Putre            8.0"
      ],
      "text/html": "<div>\n<style scoped>\n    .dataframe tbody tr th:only-of-type {\n        vertical-align: middle;\n    }\n\n    .dataframe tbody tr th {\n        vertical-align: top;\n    }\n\n    .dataframe thead tr th {\n        text-align: left;\n    }\n\n    .dataframe thead tr:last-of-type th {\n        text-align: right;\n    }\n</style>\n<table border=\"1\" class=\"dataframe\">\n  <thead>\n    <tr>\n      <th></th>\n      <th>value</th>\n    </tr>\n    <tr>\n      <th></th>\n      <th>sum</th>\n    </tr>\n    <tr>\n      <th>comuna</th>\n      <th></th>\n    </tr>\n  </thead>\n  <tbody>\n    <tr>\n      <th>Arica</th>\n      <td>586.0</td>\n    </tr>\n    <tr>\n      <th>Camarones</th>\n      <td>3.0</td>\n    </tr>\n    <tr>\n      <th>General Lagos</th>\n      <td>3.0</td>\n    </tr>\n    <tr>\n      <th>Putre</th>\n      <td>8.0</td>\n    </tr>\n  </tbody>\n</table>\n</div>"
     },
     "metadata": {},
     "execution_count": 4
    }
   ],
   "source": [
    "new_table = tables[\"camion_n_en_comuna_c_dia_d\"].drop([\"dia\", \"camion\"], axis=1).groupby(by=[\"comuna\"]).agg(['sum'])\n",
    "new_table"
   ]
  },
  {
   "cell_type": "code",
   "execution_count": 5,
   "metadata": {},
   "outputs": [
    {
     "output_type": "stream",
     "name": "stdout",
     "text": [
      "\\begin{tabular}{lr}\n\\toprule\n{} &  value \\\\\n{} &    sum \\\\\ncomuna        &        \\\\\n\\midrule\nArica         &  586.0 \\\\\nCamarones     &    3.0 \\\\\nGeneral Lagos &    3.0 \\\\\nPutre         &    8.0 \\\\\n\\bottomrule\n\\end{tabular}\n\n"
     ]
    }
   ],
   "source": [
    "print(new_table.to_latex())"
   ]
  },
  {
   "cell_type": "code",
   "execution_count": 6,
   "metadata": {},
   "outputs": [
    {
     "output_type": "execute_result",
     "data": {
      "text/plain": [
       "   camion comuna  dia   value\n",
       "0       0  Arica    0  1000.0\n",
       "1       0  Arica    1  1000.0\n",
       "2       0  Arica    2  1000.0\n",
       "3       0  Arica    3  1000.0\n",
       "4       0  Arica    4  1000.0"
      ],
      "text/html": "<div>\n<style scoped>\n    .dataframe tbody tr th:only-of-type {\n        vertical-align: middle;\n    }\n\n    .dataframe tbody tr th {\n        vertical-align: top;\n    }\n\n    .dataframe thead th {\n        text-align: right;\n    }\n</style>\n<table border=\"1\" class=\"dataframe\">\n  <thead>\n    <tr style=\"text-align: right;\">\n      <th></th>\n      <th>camion</th>\n      <th>comuna</th>\n      <th>dia</th>\n      <th>value</th>\n    </tr>\n  </thead>\n  <tbody>\n    <tr>\n      <th>0</th>\n      <td>0</td>\n      <td>Arica</td>\n      <td>0</td>\n      <td>1000.0</td>\n    </tr>\n    <tr>\n      <th>1</th>\n      <td>0</td>\n      <td>Arica</td>\n      <td>1</td>\n      <td>1000.0</td>\n    </tr>\n    <tr>\n      <th>2</th>\n      <td>0</td>\n      <td>Arica</td>\n      <td>2</td>\n      <td>1000.0</td>\n    </tr>\n    <tr>\n      <th>3</th>\n      <td>0</td>\n      <td>Arica</td>\n      <td>3</td>\n      <td>1000.0</td>\n    </tr>\n    <tr>\n      <th>4</th>\n      <td>0</td>\n      <td>Arica</td>\n      <td>4</td>\n      <td>1000.0</td>\n    </tr>\n  </tbody>\n</table>\n</div>"
     },
     "metadata": {},
     "execution_count": 6
    }
   ],
   "source": [
    "tables[\"vacunas_camion_dia\"].head()"
   ]
  },
  {
   "cell_type": "code",
   "execution_count": 15,
   "metadata": {},
   "outputs": [
    {
     "output_type": "execute_result",
     "data": {
      "text/plain": [
       "                         value\n",
       "                           sum\n",
       "camion comuna                 \n",
       "0      Arica          100000.0\n",
       "       Camarones           0.0\n",
       "       General Lagos       0.0\n",
       "       Putre               0.0\n",
       "1      Arica           94000.0\n",
       "       Camarones        1000.0\n",
       "       General Lagos    1000.0\n",
       "       Putre            4000.0\n",
       "2      Arica           97000.0\n",
       "       Camarones        1000.0\n",
       "       General Lagos       0.0\n",
       "       Putre            2000.0\n",
       "3      Arica           98000.0\n",
       "       Camarones        1000.0\n",
       "       General Lagos       0.0\n",
       "       Putre            1000.0\n",
       "4      Arica           98000.0\n",
       "       Camarones           0.0\n",
       "       General Lagos    1000.0\n",
       "       Putre            1000.0\n",
       "5      Arica           99000.0\n",
       "       Camarones           0.0\n",
       "       General Lagos    1000.0\n",
       "       Putre               0.0"
      ],
      "text/html": "<div>\n<style scoped>\n    .dataframe tbody tr th:only-of-type {\n        vertical-align: middle;\n    }\n\n    .dataframe tbody tr th {\n        vertical-align: top;\n    }\n\n    .dataframe thead tr th {\n        text-align: left;\n    }\n\n    .dataframe thead tr:last-of-type th {\n        text-align: right;\n    }\n</style>\n<table border=\"1\" class=\"dataframe\">\n  <thead>\n    <tr>\n      <th></th>\n      <th></th>\n      <th>value</th>\n    </tr>\n    <tr>\n      <th></th>\n      <th></th>\n      <th>sum</th>\n    </tr>\n    <tr>\n      <th>camion</th>\n      <th>comuna</th>\n      <th></th>\n    </tr>\n  </thead>\n  <tbody>\n    <tr>\n      <th rowspan=\"4\" valign=\"top\">0</th>\n      <th>Arica</th>\n      <td>100000.0</td>\n    </tr>\n    <tr>\n      <th>Camarones</th>\n      <td>0.0</td>\n    </tr>\n    <tr>\n      <th>General Lagos</th>\n      <td>0.0</td>\n    </tr>\n    <tr>\n      <th>Putre</th>\n      <td>0.0</td>\n    </tr>\n    <tr>\n      <th rowspan=\"4\" valign=\"top\">1</th>\n      <th>Arica</th>\n      <td>94000.0</td>\n    </tr>\n    <tr>\n      <th>Camarones</th>\n      <td>1000.0</td>\n    </tr>\n    <tr>\n      <th>General Lagos</th>\n      <td>1000.0</td>\n    </tr>\n    <tr>\n      <th>Putre</th>\n      <td>4000.0</td>\n    </tr>\n    <tr>\n      <th rowspan=\"4\" valign=\"top\">2</th>\n      <th>Arica</th>\n      <td>97000.0</td>\n    </tr>\n    <tr>\n      <th>Camarones</th>\n      <td>1000.0</td>\n    </tr>\n    <tr>\n      <th>General Lagos</th>\n      <td>0.0</td>\n    </tr>\n    <tr>\n      <th>Putre</th>\n      <td>2000.0</td>\n    </tr>\n    <tr>\n      <th rowspan=\"4\" valign=\"top\">3</th>\n      <th>Arica</th>\n      <td>98000.0</td>\n    </tr>\n    <tr>\n      <th>Camarones</th>\n      <td>1000.0</td>\n    </tr>\n    <tr>\n      <th>General Lagos</th>\n      <td>0.0</td>\n    </tr>\n    <tr>\n      <th>Putre</th>\n      <td>1000.0</td>\n    </tr>\n    <tr>\n      <th rowspan=\"4\" valign=\"top\">4</th>\n      <th>Arica</th>\n      <td>98000.0</td>\n    </tr>\n    <tr>\n      <th>Camarones</th>\n      <td>0.0</td>\n    </tr>\n    <tr>\n      <th>General Lagos</th>\n      <td>1000.0</td>\n    </tr>\n    <tr>\n      <th>Putre</th>\n      <td>1000.0</td>\n    </tr>\n    <tr>\n      <th rowspan=\"4\" valign=\"top\">5</th>\n      <th>Arica</th>\n      <td>99000.0</td>\n    </tr>\n    <tr>\n      <th>Camarones</th>\n      <td>0.0</td>\n    </tr>\n    <tr>\n      <th>General Lagos</th>\n      <td>1000.0</td>\n    </tr>\n    <tr>\n      <th>Putre</th>\n      <td>0.0</td>\n    </tr>\n  </tbody>\n</table>\n</div>"
     },
     "metadata": {},
     "execution_count": 15
    }
   ],
   "source": [
    "new_table = tables[\"vacunas_camion_dia\"].drop([\"dia\"], axis=1).groupby(by=[\"camion\", \"comuna\"]).agg(['sum'])\n",
    "new_table"
   ]
  },
  {
   "cell_type": "code",
   "execution_count": 16,
   "metadata": {},
   "outputs": [
    {
     "output_type": "stream",
     "name": "stdout",
     "text": [
      "\\begin{tabular}{llr}\n\\toprule\n  &       &     value \\\\\n  &       &       sum \\\\\ncamion & comuna &           \\\\\n\\midrule\n0 & Arica &  100000.0 \\\\\n  & Camarones &       0.0 \\\\\n  & General Lagos &       0.0 \\\\\n  & Putre &       0.0 \\\\\n1 & Arica &   94000.0 \\\\\n  & Camarones &    1000.0 \\\\\n  & General Lagos &    1000.0 \\\\\n  & Putre &    4000.0 \\\\\n2 & Arica &   97000.0 \\\\\n  & Camarones &    1000.0 \\\\\n  & General Lagos &       0.0 \\\\\n  & Putre &    2000.0 \\\\\n3 & Arica &   98000.0 \\\\\n  & Camarones &    1000.0 \\\\\n  & General Lagos &       0.0 \\\\\n  & Putre &    1000.0 \\\\\n4 & Arica &   98000.0 \\\\\n  & Camarones &       0.0 \\\\\n  & General Lagos &    1000.0 \\\\\n  & Putre &    1000.0 \\\\\n5 & Arica &   99000.0 \\\\\n  & Camarones &       0.0 \\\\\n  & General Lagos &    1000.0 \\\\\n  & Putre &       0.0 \\\\\n\\bottomrule\n\\end{tabular}\n\n"
     ]
    }
   ],
   "source": [
    "print(new_table.to_latex())"
   ]
  },
  {
   "cell_type": "code",
   "execution_count": 8,
   "metadata": {},
   "outputs": [
    {
     "output_type": "execute_result",
     "data": {
      "text/plain": [
       "      value\n",
       "        sum\n",
       "dia        \n",
       "0    2400.0\n",
       "1    2400.0\n",
       "2    2400.0\n",
       "3    2400.0\n",
       "4    2400.0\n",
       "..      ...\n",
       "95   2400.0\n",
       "96   2400.0\n",
       "97   2400.0\n",
       "98   2400.0\n",
       "99   2400.0\n",
       "\n",
       "[100 rows x 1 columns]"
      ],
      "text/html": "<div>\n<style scoped>\n    .dataframe tbody tr th:only-of-type {\n        vertical-align: middle;\n    }\n\n    .dataframe tbody tr th {\n        vertical-align: top;\n    }\n\n    .dataframe thead tr th {\n        text-align: left;\n    }\n\n    .dataframe thead tr:last-of-type th {\n        text-align: right;\n    }\n</style>\n<table border=\"1\" class=\"dataframe\">\n  <thead>\n    <tr>\n      <th></th>\n      <th>value</th>\n    </tr>\n    <tr>\n      <th></th>\n      <th>sum</th>\n    </tr>\n    <tr>\n      <th>dia</th>\n      <th></th>\n    </tr>\n  </thead>\n  <tbody>\n    <tr>\n      <th>0</th>\n      <td>2400.0</td>\n    </tr>\n    <tr>\n      <th>1</th>\n      <td>2400.0</td>\n    </tr>\n    <tr>\n      <th>2</th>\n      <td>2400.0</td>\n    </tr>\n    <tr>\n      <th>3</th>\n      <td>2400.0</td>\n    </tr>\n    <tr>\n      <th>4</th>\n      <td>2400.0</td>\n    </tr>\n    <tr>\n      <th>...</th>\n      <td>...</td>\n    </tr>\n    <tr>\n      <th>95</th>\n      <td>2400.0</td>\n    </tr>\n    <tr>\n      <th>96</th>\n      <td>2400.0</td>\n    </tr>\n    <tr>\n      <th>97</th>\n      <td>2400.0</td>\n    </tr>\n    <tr>\n      <th>98</th>\n      <td>2400.0</td>\n    </tr>\n    <tr>\n      <th>99</th>\n      <td>2400.0</td>\n    </tr>\n  </tbody>\n</table>\n<p>100 rows × 1 columns</p>\n</div>"
     },
     "metadata": {},
     "execution_count": 8
    }
   ],
   "source": [
    "new_table = tables[\"personas_vacunadas_comuna_dia\"].drop(\"comuna\", axis=1).groupby(by=[\"dia\"]).agg(['sum'])\n",
    "new_table"
   ]
  },
  {
   "cell_type": "code",
   "execution_count": 23,
   "metadata": {},
   "outputs": [
    {
     "output_type": "execute_result",
     "data": {
      "text/plain": [
       "                    value                  \n",
       "                      max   min  mean   std\n",
       "dias  comuna                               \n",
       "0-19  Arica          0.47  0.35  0.41  0.04\n",
       "      Camarones      0.78  0.39  0.57  0.20\n",
       "      General Lagos  1.00  0.11  0.95  0.19\n",
       "      Putre          0.61  0.23  0.46  0.09\n",
       "20-39 Arica          0.59  0.47  0.53  0.04\n",
       "      Camarones      0.78  0.78  0.78  0.00\n",
       "      General Lagos  1.00  1.00  1.00  0.00\n",
       "      Putre          0.71  0.61  0.63  0.04\n",
       "40-59 Arica          0.72  0.60  0.66  0.04\n",
       "      Camarones      0.78  0.78  0.78  0.00\n",
       "      General Lagos  1.00  1.00  1.00  0.00\n",
       "      Putre          0.80  0.71  0.77  0.05\n",
       "60-79 Arica          0.84  0.73  0.78  0.04\n",
       "      Camarones      0.97  0.78  0.84  0.09\n",
       "      General Lagos  1.00  1.00  1.00  0.00\n",
       "      Putre          0.90  0.80  0.83  0.04\n",
       "80-99 Arica          0.96  0.85  0.91  0.04\n",
       "      Camarones      0.97  0.97  0.97  0.00\n",
       "      General Lagos  1.00  1.00  1.00  0.00\n",
       "      Putre          1.00  0.90  0.93  0.05"
      ],
      "text/html": "<div>\n<style scoped>\n    .dataframe tbody tr th:only-of-type {\n        vertical-align: middle;\n    }\n\n    .dataframe tbody tr th {\n        vertical-align: top;\n    }\n\n    .dataframe thead tr th {\n        text-align: left;\n    }\n\n    .dataframe thead tr:last-of-type th {\n        text-align: right;\n    }\n</style>\n<table border=\"1\" class=\"dataframe\">\n  <thead>\n    <tr>\n      <th></th>\n      <th></th>\n      <th colspan=\"4\" halign=\"left\">value</th>\n    </tr>\n    <tr>\n      <th></th>\n      <th></th>\n      <th>max</th>\n      <th>min</th>\n      <th>mean</th>\n      <th>std</th>\n    </tr>\n    <tr>\n      <th>dias</th>\n      <th>comuna</th>\n      <th></th>\n      <th></th>\n      <th></th>\n      <th></th>\n    </tr>\n  </thead>\n  <tbody>\n    <tr>\n      <th rowspan=\"4\" valign=\"top\">0-19</th>\n      <th>Arica</th>\n      <td>0.47</td>\n      <td>0.35</td>\n      <td>0.41</td>\n      <td>0.04</td>\n    </tr>\n    <tr>\n      <th>Camarones</th>\n      <td>0.78</td>\n      <td>0.39</td>\n      <td>0.57</td>\n      <td>0.20</td>\n    </tr>\n    <tr>\n      <th>General Lagos</th>\n      <td>1.00</td>\n      <td>0.11</td>\n      <td>0.95</td>\n      <td>0.19</td>\n    </tr>\n    <tr>\n      <th>Putre</th>\n      <td>0.61</td>\n      <td>0.23</td>\n      <td>0.46</td>\n      <td>0.09</td>\n    </tr>\n    <tr>\n      <th rowspan=\"4\" valign=\"top\">20-39</th>\n      <th>Arica</th>\n      <td>0.59</td>\n      <td>0.47</td>\n      <td>0.53</td>\n      <td>0.04</td>\n    </tr>\n    <tr>\n      <th>Camarones</th>\n      <td>0.78</td>\n      <td>0.78</td>\n      <td>0.78</td>\n      <td>0.00</td>\n    </tr>\n    <tr>\n      <th>General Lagos</th>\n      <td>1.00</td>\n      <td>1.00</td>\n      <td>1.00</td>\n      <td>0.00</td>\n    </tr>\n    <tr>\n      <th>Putre</th>\n      <td>0.71</td>\n      <td>0.61</td>\n      <td>0.63</td>\n      <td>0.04</td>\n    </tr>\n    <tr>\n      <th rowspan=\"4\" valign=\"top\">40-59</th>\n      <th>Arica</th>\n      <td>0.72</td>\n      <td>0.60</td>\n      <td>0.66</td>\n      <td>0.04</td>\n    </tr>\n    <tr>\n      <th>Camarones</th>\n      <td>0.78</td>\n      <td>0.78</td>\n      <td>0.78</td>\n      <td>0.00</td>\n    </tr>\n    <tr>\n      <th>General Lagos</th>\n      <td>1.00</td>\n      <td>1.00</td>\n      <td>1.00</td>\n      <td>0.00</td>\n    </tr>\n    <tr>\n      <th>Putre</th>\n      <td>0.80</td>\n      <td>0.71</td>\n      <td>0.77</td>\n      <td>0.05</td>\n    </tr>\n    <tr>\n      <th rowspan=\"4\" valign=\"top\">60-79</th>\n      <th>Arica</th>\n      <td>0.84</td>\n      <td>0.73</td>\n      <td>0.78</td>\n      <td>0.04</td>\n    </tr>\n    <tr>\n      <th>Camarones</th>\n      <td>0.97</td>\n      <td>0.78</td>\n      <td>0.84</td>\n      <td>0.09</td>\n    </tr>\n    <tr>\n      <th>General Lagos</th>\n      <td>1.00</td>\n      <td>1.00</td>\n      <td>1.00</td>\n      <td>0.00</td>\n    </tr>\n    <tr>\n      <th>Putre</th>\n      <td>0.90</td>\n      <td>0.80</td>\n      <td>0.83</td>\n      <td>0.04</td>\n    </tr>\n    <tr>\n      <th rowspan=\"4\" valign=\"top\">80-99</th>\n      <th>Arica</th>\n      <td>0.96</td>\n      <td>0.85</td>\n      <td>0.91</td>\n      <td>0.04</td>\n    </tr>\n    <tr>\n      <th>Camarones</th>\n      <td>0.97</td>\n      <td>0.97</td>\n      <td>0.97</td>\n      <td>0.00</td>\n    </tr>\n    <tr>\n      <th>General Lagos</th>\n      <td>1.00</td>\n      <td>1.00</td>\n      <td>1.00</td>\n      <td>0.00</td>\n    </tr>\n    <tr>\n      <th>Putre</th>\n      <td>1.00</td>\n      <td>0.90</td>\n      <td>0.93</td>\n      <td>0.05</td>\n    </tr>\n  </tbody>\n</table>\n</div>"
     },
     "metadata": {},
     "execution_count": 23
    }
   ],
   "source": [
    "import numpy as np\n",
    "bins = [-np.inf, 20, 40, 60, 80, np.inf]\n",
    "names = ['0-19', '20-39', '40-59', '60-79', '80-99']\n",
    "new_table = tables[\"porcentajes_comuna_dia\"].copy()\n",
    "new_table['dias'] = pd.cut(new_table['dia'], bins, labels=names)\n",
    "new_table = new_table.drop(['dia'], axis=1).groupby(['dias', 'comuna']).agg([\"max\", \"min\", \"mean\"]).round(2)\n",
    "new_table"
   ]
  },
  {
   "cell_type": "code",
   "execution_count": 24,
   "metadata": {},
   "outputs": [
    {
     "output_type": "stream",
     "name": "stdout",
     "text": [
      "\\begin{tabular}{llrrrr}\n\\toprule\n      &       & \\multicolumn{4}{l}{value} \\\\\n      &       &   max &   min &  mean &   std \\\\\ndias & comuna &       &       &       &       \\\\\n\\midrule\n0-19 & Arica &  0.47 &  0.35 &  0.41 &  0.04 \\\\\n      & Camarones &  0.78 &  0.39 &  0.57 &  0.20 \\\\\n      & General Lagos &  1.00 &  0.11 &  0.95 &  0.19 \\\\\n      & Putre &  0.61 &  0.23 &  0.46 &  0.09 \\\\\n20-39 & Arica &  0.59 &  0.47 &  0.53 &  0.04 \\\\\n      & Camarones &  0.78 &  0.78 &  0.78 &  0.00 \\\\\n      & General Lagos &  1.00 &  1.00 &  1.00 &  0.00 \\\\\n      & Putre &  0.71 &  0.61 &  0.63 &  0.04 \\\\\n40-59 & Arica &  0.72 &  0.60 &  0.66 &  0.04 \\\\\n      & Camarones &  0.78 &  0.78 &  0.78 &  0.00 \\\\\n      & General Lagos &  1.00 &  1.00 &  1.00 &  0.00 \\\\\n      & Putre &  0.80 &  0.71 &  0.77 &  0.05 \\\\\n60-79 & Arica &  0.84 &  0.73 &  0.78 &  0.04 \\\\\n      & Camarones &  0.97 &  0.78 &  0.84 &  0.09 \\\\\n      & General Lagos &  1.00 &  1.00 &  1.00 &  0.00 \\\\\n      & Putre &  0.90 &  0.80 &  0.83 &  0.04 \\\\\n80-99 & Arica &  0.96 &  0.85 &  0.91 &  0.04 \\\\\n      & Camarones &  0.97 &  0.97 &  0.97 &  0.00 \\\\\n      & General Lagos &  1.00 &  1.00 &  1.00 &  0.00 \\\\\n      & Putre &  1.00 &  0.90 &  0.93 &  0.05 \\\\\n\\bottomrule\n\\end{tabular}\n\n"
     ]
    }
   ],
   "source": [
    "print(new_table.to_latex())"
   ]
  },
  {
   "cell_type": "code",
   "execution_count": 10,
   "metadata": {},
   "outputs": [
    {
     "output_type": "execute_result",
     "data": {
      "text/plain": [
       "          value                              \n",
       "            max       min      mean       std\n",
       "dias                                         \n",
       "0-19   0.713251  0.267205  0.598574  0.104073\n",
       "20-39  0.768860  0.714843  0.733531  0.016313\n",
       "40-59  0.824462  0.770452  0.799832  0.020557\n",
       "60-79  0.928587  0.826054  0.861674  0.040451\n",
       "80-99  0.982604  0.930179  0.952012  0.019316"
      ],
      "text/html": "<div>\n<style scoped>\n    .dataframe tbody tr th:only-of-type {\n        vertical-align: middle;\n    }\n\n    .dataframe tbody tr th {\n        vertical-align: top;\n    }\n\n    .dataframe thead tr th {\n        text-align: left;\n    }\n\n    .dataframe thead tr:last-of-type th {\n        text-align: right;\n    }\n</style>\n<table border=\"1\" class=\"dataframe\">\n  <thead>\n    <tr>\n      <th></th>\n      <th colspan=\"4\" halign=\"left\">value</th>\n    </tr>\n    <tr>\n      <th></th>\n      <th>max</th>\n      <th>min</th>\n      <th>mean</th>\n      <th>std</th>\n    </tr>\n    <tr>\n      <th>dias</th>\n      <th></th>\n      <th></th>\n      <th></th>\n      <th></th>\n    </tr>\n  </thead>\n  <tbody>\n    <tr>\n      <th>0-19</th>\n      <td>0.713251</td>\n      <td>0.267205</td>\n      <td>0.598574</td>\n      <td>0.104073</td>\n    </tr>\n    <tr>\n      <th>20-39</th>\n      <td>0.768860</td>\n      <td>0.714843</td>\n      <td>0.733531</td>\n      <td>0.016313</td>\n    </tr>\n    <tr>\n      <th>40-59</th>\n      <td>0.824462</td>\n      <td>0.770452</td>\n      <td>0.799832</td>\n      <td>0.020557</td>\n    </tr>\n    <tr>\n      <th>60-79</th>\n      <td>0.928587</td>\n      <td>0.826054</td>\n      <td>0.861674</td>\n      <td>0.040451</td>\n    </tr>\n    <tr>\n      <th>80-99</th>\n      <td>0.982604</td>\n      <td>0.930179</td>\n      <td>0.952012</td>\n      <td>0.019316</td>\n    </tr>\n  </tbody>\n</table>\n</div>"
     },
     "metadata": {},
     "execution_count": 10
    }
   ],
   "source": [
    "import numpy as np\n",
    "bins = [-np.inf, 20, 40, 60, 80, np.inf]\n",
    "names = ['0-19', '20-39', '40-59', '60-79', '80-99']\n",
    "new_table = tables[\"promedio_vacunacion_dia\"].copy()\n",
    "new_table['dias'] = pd.cut(new_table['dia'], bins, labels=names)\n",
    "new_table = new_table.drop(['dia'], axis=1).groupby(['dias']).agg([\"max\", \"min\", \"mean\", \"std\"])\n",
    "new_table"
   ]
  },
  {
   "cell_type": "code",
   "execution_count": 11,
   "metadata": {},
   "outputs": [
    {
     "output_type": "stream",
     "name": "stdout",
     "text": [
      "\\begin{tabular}{lrrrr}\n\\toprule\n{} & \\multicolumn{4}{l}{value} \\\\\n{} &       max &       min &      mean &       std \\\\\ndias  &           &           &           &           \\\\\n\\midrule\n0-19  &  0.713251 &  0.267205 &  0.598574 &  0.104073 \\\\\n20-39 &  0.768860 &  0.714843 &  0.733531 &  0.016313 \\\\\n40-59 &  0.824462 &  0.770452 &  0.799832 &  0.020557 \\\\\n60-79 &  0.928587 &  0.826054 &  0.861674 &  0.040451 \\\\\n80-99 &  0.982604 &  0.930179 &  0.952012 &  0.019316 \\\\\n\\bottomrule\n\\end{tabular}\n\n"
     ]
    }
   ],
   "source": [
    "print(new_table.to_latex())"
   ]
  },
  {
   "cell_type": "code",
   "execution_count": 17,
   "metadata": {},
   "outputs": [
    {
     "output_type": "execute_result",
     "data": {
      "text/plain": [
       "                    value\n",
       "                      sum\n",
       "dias  comuna             \n",
       "0-24  Arica          25.0\n",
       "      Camarones      11.0\n",
       "      General Lagos   1.0\n",
       "      Putre          25.0\n",
       "25-49 Arica          25.0\n",
       "      Camarones       4.0\n",
       "      General Lagos   0.0\n",
       "      Putre          25.0\n",
       "50-74 Arica          25.0\n",
       "      Camarones      25.0\n",
       "      General Lagos   0.0\n",
       "      Putre          25.0\n",
       "75-99 Arica          25.0\n",
       "      Camarones       6.0\n",
       "      General Lagos   0.0\n",
       "      Putre          19.0"
      ],
      "text/html": "<div>\n<style scoped>\n    .dataframe tbody tr th:only-of-type {\n        vertical-align: middle;\n    }\n\n    .dataframe tbody tr th {\n        vertical-align: top;\n    }\n\n    .dataframe thead tr th {\n        text-align: left;\n    }\n\n    .dataframe thead tr:last-of-type th {\n        text-align: right;\n    }\n</style>\n<table border=\"1\" class=\"dataframe\">\n  <thead>\n    <tr>\n      <th></th>\n      <th></th>\n      <th>value</th>\n    </tr>\n    <tr>\n      <th></th>\n      <th></th>\n      <th>sum</th>\n    </tr>\n    <tr>\n      <th>dias</th>\n      <th>comuna</th>\n      <th></th>\n    </tr>\n  </thead>\n  <tbody>\n    <tr>\n      <th rowspan=\"4\" valign=\"top\">0-24</th>\n      <th>Arica</th>\n      <td>25.0</td>\n    </tr>\n    <tr>\n      <th>Camarones</th>\n      <td>11.0</td>\n    </tr>\n    <tr>\n      <th>General Lagos</th>\n      <td>1.0</td>\n    </tr>\n    <tr>\n      <th>Putre</th>\n      <td>25.0</td>\n    </tr>\n    <tr>\n      <th rowspan=\"4\" valign=\"top\">25-49</th>\n      <th>Arica</th>\n      <td>25.0</td>\n    </tr>\n    <tr>\n      <th>Camarones</th>\n      <td>4.0</td>\n    </tr>\n    <tr>\n      <th>General Lagos</th>\n      <td>0.0</td>\n    </tr>\n    <tr>\n      <th>Putre</th>\n      <td>25.0</td>\n    </tr>\n    <tr>\n      <th rowspan=\"4\" valign=\"top\">50-74</th>\n      <th>Arica</th>\n      <td>25.0</td>\n    </tr>\n    <tr>\n      <th>Camarones</th>\n      <td>25.0</td>\n    </tr>\n    <tr>\n      <th>General Lagos</th>\n      <td>0.0</td>\n    </tr>\n    <tr>\n      <th>Putre</th>\n      <td>25.0</td>\n    </tr>\n    <tr>\n      <th rowspan=\"4\" valign=\"top\">75-99</th>\n      <th>Arica</th>\n      <td>25.0</td>\n    </tr>\n    <tr>\n      <th>Camarones</th>\n      <td>6.0</td>\n    </tr>\n    <tr>\n      <th>General Lagos</th>\n      <td>0.0</td>\n    </tr>\n    <tr>\n      <th>Putre</th>\n      <td>19.0</td>\n    </tr>\n  </tbody>\n</table>\n</div>"
     },
     "metadata": {},
     "execution_count": 17
    }
   ],
   "source": [
    "import numpy as np\n",
    "bins = [-np.inf, 24, 49, 74, np.inf]\n",
    "names = ['0-24', '25-49', '50-74', '75-99']\n",
    "new_table = tables[\"comuna_critica\"].copy()\n",
    "new_table['dias'] = pd.cut(new_table['dia'], bins, labels=names)\n",
    "new_table = new_table.drop(['dia'], axis=1).groupby(['dias', 'comuna']).agg([\"sum\"])\n",
    "new_table"
   ]
  },
  {
   "cell_type": "code",
   "execution_count": 18,
   "metadata": {},
   "outputs": [
    {
     "output_type": "stream",
     "name": "stdout",
     "text": [
      "\\begin{tabular}{llr}\n\\toprule\n      &       & value \\\\\n      &       &   sum \\\\\ndias & comuna &       \\\\\n\\midrule\n0-24 & Arica &  25.0 \\\\\n      & Camarones &  11.0 \\\\\n      & General Lagos &   1.0 \\\\\n      & Putre &  25.0 \\\\\n25-49 & Arica &  25.0 \\\\\n      & Camarones &   4.0 \\\\\n      & General Lagos &   0.0 \\\\\n      & Putre &  25.0 \\\\\n50-74 & Arica &  25.0 \\\\\n      & Camarones &  25.0 \\\\\n      & General Lagos &   0.0 \\\\\n      & Putre &  25.0 \\\\\n75-99 & Arica &  25.0 \\\\\n      & Camarones &   6.0 \\\\\n      & General Lagos &   0.0 \\\\\n      & Putre &  19.0 \\\\\n\\bottomrule\n\\end{tabular}\n\n"
     ]
    }
   ],
   "source": [
    "print(new_table.to_latex())"
   ]
  },
  {
   "cell_type": "code",
   "execution_count": 48,
   "metadata": {},
   "outputs": [
    {
     "output_type": "execute_result",
     "data": {
      "text/plain": [
       "0.016956366346322846"
      ]
     },
     "metadata": {},
     "execution_count": 48
    }
   ],
   "source": [
    "new_table = tables[\"porcentajes_comuna_dia\"].copy()\n",
    "final = (new_table[new_table['dia'] == 99]['value']).std()\n",
    "final"
   ]
  },
  {
   "cell_type": "code",
   "execution_count": 49,
   "metadata": {},
   "outputs": [
    {
     "output_type": "execute_result",
     "data": {
      "text/plain": [
       "0.12744621467917308"
      ]
     },
     "metadata": {},
     "execution_count": 49
    }
   ],
   "source": [
    "inicial = pd.DataFrame({\"comuna\": params.comunas, \"porcentaje_vacunados\":np.array(params.poblacion_vacunada)/np.array(params.poblacion_objetivo)}).std()['porcentaje_vacunados']\n",
    "inicial"
   ]
  },
  {
   "cell_type": "code",
   "execution_count": 65,
   "metadata": {},
   "outputs": [
    {
     "output_type": "stream",
     "name": "stdout",
     "text": [
      "La desviación estandar mejoro un 86.695 %\n"
     ]
    }
   ],
   "source": [
    "print(f\"La desviación estandar mejoro un {round(100*abs(inicial - final)/inicial, 3)} %\")"
   ]
  },
  {
   "cell_type": "code",
   "execution_count": 73,
   "metadata": {},
   "outputs": [
    {
     "output_type": "stream",
     "name": "stdout",
     "text": [
      "Porcentaje de vacunacion final es de 98.26 %\n"
     ]
    }
   ],
   "source": [
    "print(f\"Porcentaje de vacunacion final es de {100 * tables['promedio_vacunacion_dia'][tables['promedio_vacunacion_dia']['dia'] == 99].round(5)['value'][99]} %\")"
   ]
  },
  {
   "cell_type": "code",
   "execution_count": 76,
   "metadata": {},
   "outputs": [
    {
     "output_type": "stream",
     "name": "stdout",
     "text": [
      "Porcentaje de vacunacion inicial es de 34.641 %\n"
     ]
    }
   ],
   "source": [
    "print(f\"Porcentaje de vacunacion inicial es de {pd.Series({'porcentaje_vacunados': 100 * np.array(params.poblacion_vacunada).sum()/np.array(params.poblacion_objetivo).sum()}).round(3)['porcentaje_vacunados']} %\")"
   ]
  },
  {
   "cell_type": "code",
   "execution_count": null,
   "metadata": {},
   "outputs": [],
   "source": []
  }
 ]
}